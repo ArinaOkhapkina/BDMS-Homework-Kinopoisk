{
 "cells": [
  {
   "cell_type": "markdown",
   "metadata": {},
   "source": [
    "## Import packages"
   ]
  },
  {
   "cell_type": "code",
   "execution_count": 4,
   "metadata": {},
   "outputs": [
    {
     "name": "stdout",
     "output_type": "stream",
     "text": [
      "Collecting bstrap\n",
      "  Downloading bstrap-0.0.9-py3-none-any.whl (6.6 kB)\n",
      "Installing collected packages: bstrap\n",
      "Successfully installed bstrap-0.0.9\n"
     ]
    },
    {
     "name": "stderr",
     "output_type": "stream",
     "text": [
      "WARNING: You are using pip version 20.1.1; however, version 22.2.2 is available.\n",
      "You should consider upgrading via the 'c:\\users\\arisha\\appdata\\local\\programs\\python\\python38-32\\python.exe -m pip install --upgrade pip' command.\n"
     ]
    }
   ],
   "source": [
    "!pip install bstrap\n",
    "import pandas as pd\n",
    "import scipy.stats as st\n",
    "import numpy as np\n",
    "from bstrap import bootstrap"
   ]
  },
  {
   "cell_type": "markdown",
   "metadata": {},
   "source": [
    "## Read data"
   ]
  },
  {
   "cell_type": "code",
   "execution_count": 5,
   "metadata": {},
   "outputs": [],
   "source": [
    "data = pd.read_csv('kinopoisk rating.csv', sep=';', encoding='windows-1251')"
   ]
  },
  {
   "cell_type": "code",
   "execution_count": 7,
   "metadata": {},
   "outputs": [
    {
     "data": {
      "text/html": [
       "<div>\n",
       "<style scoped>\n",
       "    .dataframe tbody tr th:only-of-type {\n",
       "        vertical-align: middle;\n",
       "    }\n",
       "\n",
       "    .dataframe tbody tr th {\n",
       "        vertical-align: top;\n",
       "    }\n",
       "\n",
       "    .dataframe thead th {\n",
       "        text-align: right;\n",
       "    }\n",
       "</style>\n",
       "<table border=\"1\" class=\"dataframe\">\n",
       "  <thead>\n",
       "    <tr style=\"text-align: right;\">\n",
       "      <th></th>\n",
       "      <th>num</th>\n",
       "      <th>name_rus</th>\n",
       "      <th>rating_new</th>\n",
       "      <th>origin</th>\n",
       "      <th>genre</th>\n",
       "      <th>rating_old</th>\n",
       "      <th>qty_views</th>\n",
       "    </tr>\n",
       "  </thead>\n",
       "  <tbody>\n",
       "    <tr>\n",
       "      <th>0</th>\n",
       "      <td>1</td>\n",
       "      <td>Зеленая миля</td>\n",
       "      <td>9.1</td>\n",
       "      <td>США</td>\n",
       "      <td>фэнтези/ драма</td>\n",
       "      <td>8.9</td>\n",
       "      <td>692418</td>\n",
       "    </tr>\n",
       "    <tr>\n",
       "      <th>1</th>\n",
       "      <td>2</td>\n",
       "      <td>Побег из Шоушенка</td>\n",
       "      <td>9.1</td>\n",
       "      <td>США</td>\n",
       "      <td>драма</td>\n",
       "      <td>8.9</td>\n",
       "      <td>784326</td>\n",
       "    </tr>\n",
       "    <tr>\n",
       "      <th>2</th>\n",
       "      <td>3</td>\n",
       "      <td>Властелин колец: Возвращение короля</td>\n",
       "      <td>8.6</td>\n",
       "      <td>Новая Зеландия/ США</td>\n",
       "      <td>фэнтези/ приключения</td>\n",
       "      <td>8.8</td>\n",
       "      <td>481829</td>\n",
       "    </tr>\n",
       "    <tr>\n",
       "      <th>3</th>\n",
       "      <td>4</td>\n",
       "      <td>Властелин колец: Две крепости</td>\n",
       "      <td>8.6</td>\n",
       "      <td>Новая Зеландия/ США</td>\n",
       "      <td>фэнтези/ приключения</td>\n",
       "      <td>8.8</td>\n",
       "      <td>467607</td>\n",
       "    </tr>\n",
       "    <tr>\n",
       "      <th>4</th>\n",
       "      <td>5</td>\n",
       "      <td>Властелин колец: Братство Кольца</td>\n",
       "      <td>8.6</td>\n",
       "      <td>Новая Зеландия/ США</td>\n",
       "      <td>фэнтези/ приключения</td>\n",
       "      <td>8.8</td>\n",
       "      <td>516856</td>\n",
       "    </tr>\n",
       "  </tbody>\n",
       "</table>\n",
       "</div>"
      ],
      "text/plain": [
       "   num                             name_rus  rating_new               origin  \\\n",
       "0    1                         Зеленая миля         9.1                  США   \n",
       "1    2                    Побег из Шоушенка         9.1                  США   \n",
       "2    3  Властелин колец: Возвращение короля         8.6  Новая Зеландия/ США   \n",
       "3    4        Властелин колец: Две крепости         8.6  Новая Зеландия/ США   \n",
       "4    5     Властелин колец: Братство Кольца         8.6  Новая Зеландия/ США   \n",
       "\n",
       "                  genre  rating_old  qty_views  \n",
       "0        фэнтези/ драма         8.9     692418  \n",
       "1                 драма         8.9     784326  \n",
       "2  фэнтези/ приключения         8.8     481829  \n",
       "3  фэнтези/ приключения         8.8     467607  \n",
       "4  фэнтези/ приключения         8.8     516856  "
      ]
     },
     "execution_count": 7,
     "metadata": {},
     "output_type": "execute_result"
    }
   ],
   "source": [
    "data.head()"
   ]
  },
  {
   "cell_type": "code",
   "execution_count": 12,
   "metadata": {},
   "outputs": [
    {
     "data": {
      "text/plain": [
       "(250, 7)"
      ]
     },
     "execution_count": 12,
     "metadata": {},
     "output_type": "execute_result"
    }
   ],
   "source": [
    "data.shape"
   ]
  },
  {
   "cell_type": "markdown",
   "metadata": {},
   "source": [
    " ## Analysis"
   ]
  },
  {
   "cell_type": "markdown",
   "metadata": {},
   "source": [
    "### Mann-Whitney U-test for all data"
   ]
  },
  {
   "cell_type": "code",
   "execution_count": 9,
   "metadata": {},
   "outputs": [
    {
     "data": {
      "text/plain": [
       "MannwhitneyuResult(statistic=31324.5, pvalue=0.9629567921262221)"
      ]
     },
     "execution_count": 9,
     "metadata": {},
     "output_type": "execute_result"
    }
   ],
   "source": [
    "st.mannwhitneyu(data.rating_old, data.rating_new)"
   ]
  },
  {
   "cell_type": "markdown",
   "metadata": {},
   "source": [
    "As we can see p-value > 0.05 => we can consider that there is no statistical difference between old and new ratings according to the Mann-Whithey U-test. H0 don't rejected."
   ]
  },
  {
   "cell_type": "markdown",
   "metadata": {},
   "source": [
    "### Data new information"
   ]
  },
  {
   "cell_type": "markdown",
   "metadata": {},
   "source": [
    "Let's find the most frequently occuring vaues in dataset for origin and genre columns"
   ]
  },
  {
   "cell_type": "code",
   "execution_count": 43,
   "metadata": {},
   "outputs": [
    {
     "data": {
      "text/plain": [
       "genre\n",
       "фантастика/ боевик     19\n",
       "мультфильм/ фэнтези    13\n",
       "драма/ мелодрама       13\n",
       "драма                  12\n",
       "триллер/ драма         11\n",
       "                       ..\n",
       "биография/ драма        1\n",
       "криминал/ биография     1\n",
       "криминал/ боевик        1\n",
       "боевик/ приключения     1\n",
       "комедия/ мелодрама      1\n",
       "Name: genre, Length: 76, dtype: int64"
      ]
     },
     "execution_count": 43,
     "metadata": {},
     "output_type": "execute_result"
    }
   ],
   "source": [
    "data.groupby(['genre'])['genre'].count().sort_values(ascending=False)"
   ]
  },
  {
   "cell_type": "code",
   "execution_count": 42,
   "metadata": {},
   "outputs": [
    {
     "data": {
      "text/plain": [
       "origin\n",
       "США                         110\n",
       "СССР                         31\n",
       "Великобритания/ США          17\n",
       "США/ Германия                10\n",
       "Япония                        9\n",
       "США/ Великобритания           9\n",
       "Новая Зеландия/ США           6\n",
       "США/ Канада                   5\n",
       "Италия                        4\n",
       "Россия                        4\n",
       "Германия                      3\n",
       "Франция                       3\n",
       "Австралия/ США                2\n",
       "США/ Мексика                  2\n",
       "Великобритания/ Франция       2\n",
       "США/ Япония                   2\n",
       "Корея Южная                   2\n",
       "Франция/ США                  2\n",
       "Франция/ Великобритания       1\n",
       "Франция/ Бельгия              1\n",
       "США/ Италия                   1\n",
       "Франция/ Канада               1\n",
       "Франция/ Польша               1\n",
       "США/ Франция                  1\n",
       "США/ Новая Зеландия           1\n",
       "Швеция                        1\n",
       "США/ Мальта                   1\n",
       "США/ Китай                    1\n",
       "Бразилия/ Франция             1\n",
       "Германия/ Италия              1\n",
       "Великобритания                1\n",
       "Гонконг/ Китай                1\n",
       "США/ Австралия                1\n",
       "Великобритания/ Канада        1\n",
       "Россия/ США                   1\n",
       "Беларусь/ Россия              1\n",
       "Великобритания/ Япония        1\n",
       "Ливан/ США                    1\n",
       "Канада/ США                   1\n",
       "Италия/ Испания               1\n",
       "Испания/ Великобритания       1\n",
       "Ирландия/ Люксембург          1\n",
       "Ирландия/ Дания               1\n",
       "Гонконг/ Югославия            1\n",
       "Великобритания/ Германия      1\n",
       "Name: origin, dtype: int64"
      ]
     },
     "execution_count": 42,
     "metadata": {},
     "output_type": "execute_result"
    }
   ],
   "source": [
    "data.groupby(['origin'])['origin'].count().sort_values(ascending=False)"
   ]
  },
  {
   "cell_type": "markdown",
   "metadata": {},
   "source": [
    "### Mann-Whitney U-test for data with similar origin, genre or origin/genre"
   ]
  },
  {
   "cell_type": "code",
   "execution_count": 15,
   "metadata": {},
   "outputs": [
    {
     "data": {
      "text/plain": [
       "(174, 7)"
      ]
     },
     "execution_count": 15,
     "metadata": {},
     "output_type": "execute_result"
    }
   ],
   "source": [
    "data_USA = data[data.origin.str.contains('США')]\n",
    "data_USA.shape"
   ]
  },
  {
   "cell_type": "code",
   "execution_count": 16,
   "metadata": {},
   "outputs": [
    {
     "data": {
      "text/plain": [
       "MannwhitneyuResult(statistic=16482.5, pvalue=0.1461184817005307)"
      ]
     },
     "execution_count": 16,
     "metadata": {},
     "output_type": "execute_result"
    }
   ],
   "source": [
    "st.mannwhitneyu(data_USA.rating_old, data_USA.rating_new)"
   ]
  },
  {
   "cell_type": "code",
   "execution_count": 32,
   "metadata": {},
   "outputs": [
    {
     "data": {
      "text/plain": [
       "(38, 7)"
      ]
     },
     "execution_count": 32,
     "metadata": {},
     "output_type": "execute_result"
    }
   ],
   "source": [
    "data_fantasy = data[data.genre.str.contains('фэнтези')]\n",
    "data_fantasy.shape"
   ]
  },
  {
   "cell_type": "code",
   "execution_count": 33,
   "metadata": {},
   "outputs": [
    {
     "data": {
      "text/plain": [
       "MannwhitneyuResult(statistic=868.5, pvalue=0.12298584810308144)"
      ]
     },
     "execution_count": 33,
     "metadata": {},
     "output_type": "execute_result"
    }
   ],
   "source": [
    "st.mannwhitneyu(data_fantasy.rating_old, data_fantasy.rating_new)"
   ]
  },
  {
   "cell_type": "code",
   "execution_count": 11,
   "metadata": {},
   "outputs": [
    {
     "data": {
      "text/plain": [
       "(33, 7)"
      ]
     },
     "execution_count": 11,
     "metadata": {},
     "output_type": "execute_result"
    }
   ],
   "source": [
    "data_USA_fantasy = data[data.origin.str.contains('США') & data.genre.str.contains('фэнтези')]\n",
    "data_USA_fantasy.shape"
   ]
  },
  {
   "cell_type": "code",
   "execution_count": 13,
   "metadata": {},
   "outputs": [
    {
     "data": {
      "text/plain": [
       "MannwhitneyuResult(statistic=672.0, pvalue=0.09864439629244537)"
      ]
     },
     "execution_count": 13,
     "metadata": {},
     "output_type": "execute_result"
    }
   ],
   "source": [
    "st.mannwhitneyu(data_USA_fantasy.rating_old, data_USA_fantasy.rating_new)"
   ]
  },
  {
   "cell_type": "code",
   "execution_count": 35,
   "metadata": {},
   "outputs": [
    {
     "data": {
      "text/plain": [
       "(41, 7)"
      ]
     },
     "execution_count": 35,
     "metadata": {},
     "output_type": "execute_result"
    }
   ],
   "source": [
    "data_action = data[data.genre.str.contains('боевик')]\n",
    "data_action.shape"
   ]
  },
  {
   "cell_type": "code",
   "execution_count": 37,
   "metadata": {},
   "outputs": [
    {
     "data": {
      "text/plain": [
       "MannwhitneyuResult(statistic=1094.0, pvalue=0.015909008539090632)"
      ]
     },
     "execution_count": 37,
     "metadata": {},
     "output_type": "execute_result"
    }
   ],
   "source": [
    "st.mannwhitneyu(data_action.rating_old, data_action.rating_new)"
   ]
  },
  {
   "cell_type": "code",
   "execution_count": 39,
   "metadata": {},
   "outputs": [
    {
     "data": {
      "text/plain": [
       "(33, 7)"
      ]
     },
     "execution_count": 39,
     "metadata": {},
     "output_type": "execute_result"
    }
   ],
   "source": [
    "data_USA_action = data[data.origin.str.contains('США') & data.genre.str.contains('боевик')]\n",
    "data_USA_action.shape"
   ]
  },
  {
   "cell_type": "code",
   "execution_count": 40,
   "metadata": {},
   "outputs": [
    {
     "data": {
      "text/plain": [
       "MannwhitneyuResult(statistic=699.0, pvalue=0.042728150663774264)"
      ]
     },
     "execution_count": 40,
     "metadata": {},
     "output_type": "execute_result"
    }
   ],
   "source": [
    "st.mannwhitneyu(data_USA_action.rating_old, data_USA_action.rating_new)"
   ]
  },
  {
   "cell_type": "markdown",
   "metadata": {},
   "source": [
    "### Conclusion Whitney-Uitman U-test"
   ]
  },
  {
   "cell_type": "markdown",
   "metadata": {},
   "source": [
    "As we can see that for most samples the p-value is more then 0.05 which mean that we have no statistical difference between ratings. But, as an exception, we see that for films in sample USA/action_film the p-value is less than 0.05. For this semple we can't reject H1, but for all other we don't reject H0."
   ]
  },
  {
   "cell_type": "markdown",
   "metadata": {},
   "source": [
    "## Bootstrap"
   ]
  },
  {
   "cell_type": "markdown",
   "metadata": {},
   "source": [
    "### Bootstrap for all data"
   ]
  },
  {
   "cell_type": "code",
   "execution_count": 50,
   "metadata": {},
   "outputs": [
    {
     "data": {
      "text/plain": [
       "({'avg_metric': 8.1797266,\n",
       "  'metric_ci_lb': 8.159600000000001,\n",
       "  'metric_ci_ub': 8.2},\n",
       " {'avg_metric': 8.1845764, 'metric_ci_lb': 8.156, 'metric_ci_ub': 8.2128},\n",
       " 0.814)"
      ]
     },
     "execution_count": 50,
     "metadata": {},
     "output_type": "execute_result"
    }
   ],
   "source": [
    "old, new, p = bootstrap(np.mean, data.rating_old, data.rating_new, nbr_runs=2000)\n",
    "old, new, p"
   ]
  },
  {
   "cell_type": "markdown",
   "metadata": {},
   "source": [
    "The p-value with bootstrap is more tnah 0.05 which mean that there is no statistical difference."
   ]
  },
  {
   "cell_type": "markdown",
   "metadata": {},
   "source": [
    "### Bootstrap for data with the same origin, country or origin/country"
   ]
  },
  {
   "cell_type": "code",
   "execution_count": 51,
   "metadata": {},
   "outputs": [
    {
     "data": {
      "text/plain": [
       "({'avg_metric': 8.178181034482758,\n",
       "  'metric_ci_lb': 8.154022988505748,\n",
       "  'metric_ci_ub': 8.204022988505747},\n",
       " {'avg_metric': 8.154612356321838,\n",
       "  'metric_ci_lb': 8.120689655172415,\n",
       "  'metric_ci_ub': 8.189655172413794},\n",
       " 0.3475)"
      ]
     },
     "execution_count": 51,
     "metadata": {},
     "output_type": "execute_result"
    }
   ],
   "source": [
    "old, new, p = bootstrap(np.mean, data_USA.rating_old, data_USA.rating_new, nbr_runs=2000)\n",
    "old, new, p"
   ]
  },
  {
   "cell_type": "code",
   "execution_count": 55,
   "metadata": {},
   "outputs": [
    {
     "data": {
      "text/plain": [
       "({'avg_metric': 8.224065789473686,\n",
       "  'metric_ci_lb': 8.160526315789474,\n",
       "  'metric_ci_ub': 8.292105263157897},\n",
       " {'avg_metric': 8.142288157894738,\n",
       "  'metric_ci_lb': 8.071052631578947,\n",
       "  'metric_ci_ub': 8.215789473684211},\n",
       " 0.1875)"
      ]
     },
     "execution_count": 55,
     "metadata": {},
     "output_type": "execute_result"
    }
   ],
   "source": [
    "old, new, p = bootstrap(np.mean, data_fantasy.rating_old, data_fantasy.rating_new, nbr_runs=2000)\n",
    "old, new, p"
   ]
  },
  {
   "cell_type": "code",
   "execution_count": 53,
   "metadata": {},
   "outputs": [
    {
     "data": {
      "text/plain": [
       "({'avg_metric': 8.24436515151515,\n",
       "  'metric_ci_lb': 8.16969696969697,\n",
       "  'metric_ci_ub': 8.324242424242424},\n",
       " {'avg_metric': 8.148693939393938,\n",
       "  'metric_ci_lb': 8.069696969696968,\n",
       "  'metric_ci_ub': 8.236363636363635},\n",
       " 0.175)"
      ]
     },
     "execution_count": 53,
     "metadata": {},
     "output_type": "execute_result"
    }
   ],
   "source": [
    "old, new, p = bootstrap(np.mean, data_USA_fantasy.rating_old, data_USA_fantasy.rating_new, nbr_runs=2000)\n",
    "old, new, p"
   ]
  },
  {
   "cell_type": "code",
   "execution_count": 54,
   "metadata": {},
   "outputs": [
    {
     "data": {
      "text/plain": [
       "({'avg_metric': 8.162513636363638,\n",
       "  'metric_ci_lb': 8.11818181818182,\n",
       "  'metric_ci_ub': 8.212121212121213},\n",
       " {'avg_metric': 8.089484848484847,\n",
       "  'metric_ci_lb': 8.015151515151516,\n",
       "  'metric_ci_ub': 8.16969696969697},\n",
       " 0.1775)"
      ]
     },
     "execution_count": 54,
     "metadata": {},
     "output_type": "execute_result"
    }
   ],
   "source": [
    "old, new, p = bootstrap(np.mean, data_USA_action.rating_old, data_USA_action.rating_new, nbr_runs=2000)\n",
    "old, new, p"
   ]
  },
  {
   "cell_type": "markdown",
   "metadata": {},
   "source": [
    "We see that for all samples p-value is more then 0.05. So, there is no relevant statistical difference."
   ]
  },
  {
   "cell_type": "markdown",
   "metadata": {},
   "source": [
    "## Conclusion"
   ]
  },
  {
   "cell_type": "markdown",
   "metadata": {},
   "source": [
    "We did 2 analysis of our data with Mann-Whitney U-test and Bootstrap. As the result we can conclude that old and new ratings doesn't have relevant statistical difference between each other. This result is true for all our samples. We had one exceptio with USA/action data when did Mann-Whitney U-test, but it doesn't prooved by booststrap. So, we can say that the H0 is confirmed with our analysis."
   ]
  },
  {
   "cell_type": "code",
   "execution_count": null,
   "metadata": {},
   "outputs": [],
   "source": []
  }
 ],
 "metadata": {
  "kernelspec": {
   "display_name": "Python 3",
   "language": "python",
   "name": "python3"
  },
  "language_info": {
   "codemirror_mode": {
    "name": "ipython",
    "version": 3
   },
   "file_extension": ".py",
   "mimetype": "text/x-python",
   "name": "python",
   "nbconvert_exporter": "python",
   "pygments_lexer": "ipython3",
   "version": "3.8.2"
  }
 },
 "nbformat": 4,
 "nbformat_minor": 4
}
